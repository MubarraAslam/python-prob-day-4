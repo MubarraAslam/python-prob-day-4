{
 "cells": [
  {
   "cell_type": "markdown",
   "id": "32ceb1a3-0317-4239-8bfa-7ab1b109b919",
   "metadata": {},
   "source": [
    "# Question 1 "
   ]
  },
  {
   "cell_type": "code",
   "execution_count": null,
   "id": "44522301-cf33-459a-a9ff-c4e51b6fa346",
   "metadata": {},
   "outputs": [],
   "source": [
    "Write a Python program to create a tuple containing the following elements: \"apple\", \n",
    "\"banana\", \"cherry\", \"date\". \n",
    "Print the tuple  "
   ]
  },
  {
   "cell_type": "code",
   "execution_count": 1,
   "id": "94c19aef-216b-4226-9440-22389113666b",
   "metadata": {},
   "outputs": [
    {
     "name": "stdout",
     "output_type": "stream",
     "text": [
      "('apple', 'banana', 'cherry', 'date')\n"
     ]
    }
   ],
   "source": [
    "mytuple=(\"apple\", \"banana\", \"cherry\", \"date\",)\n",
    "print(mytuple)"
   ]
  },
  {
   "cell_type": "code",
   "execution_count": null,
   "id": "098ca04f-2ddc-422f-b771-f5af9c334eff",
   "metadata": {},
   "outputs": [],
   "source": []
  },
  {
   "cell_type": "markdown",
   "id": "060f377e-30e6-4554-8fe7-154dbe7ed2d1",
   "metadata": {},
   "source": [
    "# Question 2"
   ]
  },
  {
   "cell_type": "code",
   "execution_count": null,
   "id": "7753b722-ae59-4ace-b4bd-a03e79512b4c",
   "metadata": {},
   "outputs": [],
   "source": [
    "Write a Python program to create an empty list, then add the following elements to the list: \n",
    "10, 20, 30, 40, 50. \n",
    "Finally, print the list"
   ]
  },
  {
   "cell_type": "code",
   "execution_count": 3,
   "id": "df8f7a47-355c-4751-8070-8ad3dfed5982",
   "metadata": {},
   "outputs": [
    {
     "name": "stdout",
     "output_type": "stream",
     "text": [
      "[10, 20, 30, 40, 50]\n"
     ]
    }
   ],
   "source": [
    "mylist=[]\n",
    "mylist.append(10)\n",
    "mylist.append(20)\n",
    "mylist.append(30)\n",
    "mylist.append(40)\n",
    "mylist.append(50)\n",
    "print(mylist)"
   ]
  },
  {
   "cell_type": "code",
   "execution_count": null,
   "id": "6fc3d258-8c3e-481d-9cbe-7a2e64fff9f4",
   "metadata": {},
   "outputs": [],
   "source": []
  },
  {
   "cell_type": "markdown",
   "id": "7979ea30-77d5-4744-8be5-f05d110dff38",
   "metadata": {},
   "source": [
    "# Question 3"
   ]
  },
  {
   "cell_type": "code",
   "execution_count": null,
   "id": "2e3890fc-c041-4fe1-a7b7-c6ff3e950421",
   "metadata": {},
   "outputs": [],
   "source": [
    "Difference between Tuple and List (Research Question)\n",
    "• Research and explain the main difference between tuples and lists in Python.\n",
    "• How does their immutability/mutability affect their usage in programming?\n",
    "• Give an example scenario where you would prefer using a tuple over a list, and vice \n",
    "versa"
   ]
  },
  {
   "cell_type": "code",
   "execution_count": null,
   "id": "8e30f7c1-2236-4aec-9694-e2580977eed3",
   "metadata": {},
   "outputs": [],
   "source": [
    "1. tuple when created it use Round bracket and when there is 1 element in tuplle we have to put , at the end otherwise it will give an error\n",
    "for example , tuple=(\"apple\",), it is immutable\n",
    "But list when created it use square bracket and 1 item can be in a list without comma , it is mutable"
   ]
  },
  {
   "cell_type": "code",
   "execution_count": null,
   "id": "3506d296-f10b-4d93-88a2-26194341dc70",
   "metadata": {},
   "outputs": [],
   "source": [
    "2. in progarmming less code is effective reason for this is easy to understand so, when usind tuple its immutable and for any change we will have to\n",
    "convert tuple into list then we will be able to change which require and also code for this will be longer  but lsit is mutable and change will be easy \n",
    "with one line of code\n",
    "for example,\n",
    "tuple.append will give error\n",
    "list.append"
   ]
  },
  {
   "cell_type": "code",
   "execution_count": null,
   "id": "6e376653-7b7f-4b8a-9a26-d870c4d41223",
   "metadata": {},
   "outputs": [],
   "source": [
    "3. tuple is used when changes are not required like days of week cant be change and months etc and list is used when changing are required on \n",
    "daily bases like database (adding and updating)"
   ]
  }
 ],
 "metadata": {
  "kernelspec": {
   "display_name": "Python 3 (ipykernel)",
   "language": "python",
   "name": "python3"
  },
  "language_info": {
   "codemirror_mode": {
    "name": "ipython",
    "version": 3
   },
   "file_extension": ".py",
   "mimetype": "text/x-python",
   "name": "python",
   "nbconvert_exporter": "python",
   "pygments_lexer": "ipython3",
   "version": "3.11.7"
  }
 },
 "nbformat": 4,
 "nbformat_minor": 5
}
